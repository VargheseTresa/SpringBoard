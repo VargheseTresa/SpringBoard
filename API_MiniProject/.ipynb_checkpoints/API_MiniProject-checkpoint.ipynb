{
 "cells": [
  {
   "cell_type": "markdown",
   "metadata": {},
   "source": [
    "# API Mini Project"
   ]
  },
  {
   "cell_type": "markdown",
   "metadata": {},
   "source": [
    "Perform required installations if needed"
   ]
  },
  {
   "cell_type": "code",
   "execution_count": 7,
   "metadata": {
    "scrolled": true
   },
   "outputs": [
    {
     "name": "stdout",
     "output_type": "stream",
     "text": [
      "Collecting python-dotenv\n",
      "  Downloading python_dotenv-0.19.0-py2.py3-none-any.whl (17 kB)\n",
      "Installing collected packages: python-dotenv\n",
      "Successfully installed python-dotenv-0.19.0\n"
     ]
    }
   ],
   "source": [
    "#!pip install python-dotenv"
   ]
  },
  {
   "cell_type": "code",
   "execution_count": 132,
   "metadata": {},
   "outputs": [],
   "source": [
    "# First, import the relevant modules"
   ]
  },
  {
   "cell_type": "code",
   "execution_count": 133,
   "metadata": {},
   "outputs": [],
   "source": [
    "import os\n",
    "from dotenv import load_dotenv\n",
    "import requests\n",
    "\n"
   ]
  },
  {
   "cell_type": "code",
   "execution_count": 134,
   "metadata": {},
   "outputs": [],
   "source": [
    "# get api key from your .env file\n",
    "\n",
    "load_dotenv()\n",
    "API_KEY = os.getenv('NASDAQ_API_KEY')\n",
    "\n",
    "#print(API_KEY)"
   ]
  },
  {
   "cell_type": "code",
   "execution_count": 11,
   "metadata": {},
   "outputs": [],
   "source": [
    "#api_url = \"https://data.nasdaq.com/api/v3/databases/AFX_X/data?download_type=full&api_key=\"+API_KEY"
   ]
  },
  {
   "cell_type": "code",
   "execution_count": 135,
   "metadata": {},
   "outputs": [],
   "source": [
    "api_url = \"https://www.quandl.com/api/v3/datasets/FSE/AFX_X.json?api_key=\"+API_KEY"
   ]
  },
  {
   "cell_type": "code",
   "execution_count": 136,
   "metadata": {},
   "outputs": [
    {
     "name": "stdout",
     "output_type": "stream",
     "text": [
      "<Response [200]>\n"
     ]
    }
   ],
   "source": [
    "# Now, call the Nasdaq API and pull out a small sample of the data (only one day) to get a glimpse\n",
    "# into the JSON structure that will be returned\n",
    "res = requests.get(api_url+\"&limit=1\")\n",
    "print(res)\n"
   ]
  },
  {
   "cell_type": "code",
   "execution_count": 137,
   "metadata": {},
   "outputs": [
    {
     "data": {
      "text/plain": [
       "{'dataset': {'id': 10095370,\n",
       "  'dataset_code': 'AFX_X',\n",
       "  'database_code': 'FSE',\n",
       "  'name': 'Carl Zeiss Meditec (AFX_X)',\n",
       "  'description': 'Stock Prices for Carl Zeiss Meditec (2020-11-02) from the Frankfurt Stock Exchange.<br><br>Trading System: Xetra<br><br>ISIN: DE0005313704',\n",
       "  'refreshed_at': '2020-12-01T14:48:09.907Z',\n",
       "  'newest_available_date': '2020-12-01',\n",
       "  'oldest_available_date': '2000-06-07',\n",
       "  'column_names': ['Date',\n",
       "   'Open',\n",
       "   'High',\n",
       "   'Low',\n",
       "   'Close',\n",
       "   'Change',\n",
       "   'Traded Volume',\n",
       "   'Turnover',\n",
       "   'Last Price of the Day',\n",
       "   'Daily Traded Units',\n",
       "   'Daily Turnover'],\n",
       "  'frequency': 'daily',\n",
       "  'type': 'Time Series',\n",
       "  'premium': False,\n",
       "  'limit': 1,\n",
       "  'transform': None,\n",
       "  'column_index': None,\n",
       "  'start_date': '2000-06-07',\n",
       "  'end_date': '2020-12-01',\n",
       "  'data': [['2020-12-01',\n",
       "    112.2,\n",
       "    112.2,\n",
       "    111.5,\n",
       "    112.0,\n",
       "    None,\n",
       "    51.0,\n",
       "    5703.0,\n",
       "    None,\n",
       "    None,\n",
       "    None]],\n",
       "  'collapse': None,\n",
       "  'order': None,\n",
       "  'database_id': 6129}}"
      ]
     },
     "execution_count": 137,
     "metadata": {},
     "output_type": "execute_result"
    }
   ],
   "source": [
    "# Inspect the JSON structure of the object you created, and take note of how nested it is,\n",
    "# as well as the overall structure\n",
    "\n",
    "json_res = res.json()\n",
    "json_res"
   ]
  },
  {
   "cell_type": "markdown",
   "metadata": {},
   "source": [
    "### 1. Collect data from the Franfurt Stock Exchange, for the ticker AFX_X, for the whole year 2017"
   ]
  },
  {
   "cell_type": "code",
   "execution_count": 138,
   "metadata": {},
   "outputs": [
    {
     "name": "stdout",
     "output_type": "stream",
     "text": [
      "<Response [200]>\n"
     ]
    }
   ],
   "source": [
    "res_2017 = requests.get(api_url + \"&start_date=2017-01-01&end_date=2017-12-31\")\n",
    "print(res_2017)"
   ]
  },
  {
   "cell_type": "code",
   "execution_count": 140,
   "metadata": {},
   "outputs": [],
   "source": [
    "#res_2017.text"
   ]
  },
  {
   "cell_type": "markdown",
   "metadata": {},
   "source": [
    "### Convert the returned JSON object into a Python dictionary"
   ]
  },
  {
   "cell_type": "code",
   "execution_count": 152,
   "metadata": {},
   "outputs": [
    {
     "data": {
      "text/plain": [
       "dict"
      ]
     },
     "execution_count": 152,
     "metadata": {},
     "output_type": "execute_result"
    }
   ],
   "source": [
    "json_2017 = res_2017.json()\n",
    "type(json_2017)"
   ]
  },
  {
   "cell_type": "code",
   "execution_count": 143,
   "metadata": {},
   "outputs": [
    {
     "data": {
      "text/plain": [
       "255"
      ]
     },
     "execution_count": 143,
     "metadata": {},
     "output_type": "execute_result"
    }
   ],
   "source": [
    "len(json_2017['dataset']['data'])"
   ]
  },
  {
   "cell_type": "markdown",
   "metadata": {},
   "source": [
    "### 3. Calculate what the highest and lowest opening prices were for the stock in this period."
   ]
  },
  {
   "cell_type": "code",
   "execution_count": 144,
   "metadata": {
    "scrolled": false
   },
   "outputs": [
    {
     "data": {
      "text/plain": [
       "['Date',\n",
       " 'Open',\n",
       " 'High',\n",
       " 'Low',\n",
       " 'Close',\n",
       " 'Change',\n",
       " 'Traded Volume',\n",
       " 'Turnover',\n",
       " 'Last Price of the Day',\n",
       " 'Daily Traded Units',\n",
       " 'Daily Turnover']"
      ]
     },
     "execution_count": 144,
     "metadata": {},
     "output_type": "execute_result"
    }
   ],
   "source": [
    "json_2017['dataset']['column_names']"
   ]
  },
  {
   "cell_type": "code",
   "execution_count": 145,
   "metadata": {},
   "outputs": [],
   "source": [
    "# function to extract the specified column values\n",
    "def extract_data(col_name):\n",
    "    # store the column names as a list\n",
    "    col_names = json_2017['dataset']['column_names']\n",
    "    \n",
    "    # find the index of the required column\n",
    "    index = col_names.index(col_name)\n",
    "    \n",
    "    #Extract the column values from the nested list using above index\n",
    "    col_values = [entry[index] for entry in json_2017['dataset']['data']]\n",
    "    \n",
    "    return col_values"
   ]
  },
  {
   "cell_type": "code",
   "execution_count": 146,
   "metadata": {},
   "outputs": [
    {
     "name": "stdout",
     "output_type": "stream",
     "text": [
      "The highest opening price in 2017: 53.09\n",
      "The lowest opening price in 2017: 34.06\n"
     ]
    }
   ],
   "source": [
    "# Extract all opening prices \n",
    "opening_prices_raw = extract_data('Open')\n",
    "\n",
    "# filter and remove NoneType\n",
    "opening_prices = list(filter(None, opening_prices))\n",
    "\n",
    "# Calculated highest and lowest prices\n",
    "lowest_op_price = min(opening_prices)\n",
    "highest_op_price = max(opening_prices)\n",
    "print(\"The highest opening price in 2017: \" + str(highest_op_price))\n",
    "print(\"The lowest opening price in 2017: \" + str(lowest_op_price))"
   ]
  },
  {
   "cell_type": "markdown",
   "metadata": {},
   "source": [
    "### 4. What was the largest change in any one day (based on High and Low price)?"
   ]
  },
  {
   "cell_type": "code",
   "execution_count": 147,
   "metadata": {},
   "outputs": [
    {
     "name": "stdout",
     "output_type": "stream",
     "text": [
      "The largest change in any one day in 2017: 2.81\n"
     ]
    }
   ],
   "source": [
    "# extract high values for the given period\n",
    "high_prices = extract_data('High')\n",
    "\n",
    "# # extract low values for the given period\n",
    "low_prices = extract_data('Low')\n",
    "\n",
    "# Compute change as difference of high and low value\n",
    "largest_change = max([(high_prices[i] - low_prices[i]) for i in range(len(high_prices))])\n",
    "\n",
    "print(\"The largest change in any one day in 2017: \" + str(round(largest_change, 2)))"
   ]
  },
  {
   "cell_type": "markdown",
   "metadata": {},
   "source": [
    "### 5. What was the largest change between any two days (based on Closing Price)?"
   ]
  },
  {
   "cell_type": "code",
   "execution_count": 148,
   "metadata": {},
   "outputs": [
    {
     "name": "stdout",
     "output_type": "stream",
     "text": [
      "The largest change between any two days based on Closing price: 2.56\n"
     ]
    }
   ],
   "source": [
    "# Extract all closing prices \n",
    "closing_prices = extract_data('Close')\n",
    "\n",
    "# Find the difference between closing price for consecutive entries and find their max value\n",
    "largest_change_bw_days = max([d1 - d2 for d2, d1 in zip(closing_prices[:-1], closing_prices[1:])])\n",
    "\n",
    "print(\"The largest change between any two days based on Closing price: \" + str(round(largest_change_bw_days, 2)))"
   ]
  },
  {
   "cell_type": "markdown",
   "metadata": {},
   "source": [
    "### 6. What was the average daily trading volume during this year?"
   ]
  },
  {
   "cell_type": "code",
   "execution_count": 149,
   "metadata": {},
   "outputs": [
    {
     "name": "stdout",
     "output_type": "stream",
     "text": [
      "The average daily trading volume in 2017: 89124.34\n"
     ]
    }
   ],
   "source": [
    "# Extract the traded volume values for all days in 2017\n",
    "traded_volume = extract_data('Traded Volume')\n",
    "\n",
    "# Compute the mean of traded volume\n",
    "avg_traded_volume = sum(traded_volume) / len(traded_volume)\n",
    "\n",
    "print(\"The average daily trading volume in 2017: \" + str(round(avg_traded_volume, 2)))"
   ]
  },
  {
   "cell_type": "markdown",
   "metadata": {},
   "source": [
    "### 7. What was the median trading volume during this year. "
   ]
  },
  {
   "cell_type": "code",
   "execution_count": 150,
   "metadata": {},
   "outputs": [],
   "source": [
    "# function to calculate median\n",
    "def median(arr):\n",
    "    # find length of array\n",
    "    n = len(arr)\n",
    "    \n",
    "    # sort the array\n",
    "    arr.sort()\n",
    "    \n",
    "    # if number of elements is even\n",
    "    if n%2 == 0:\n",
    "        return (arr[(n-1)//2] + arr[(n+1)//2]) / 2\n",
    "    \n",
    "    # if number of elements is odd\n",
    "    else:\n",
    "        return arr[(n-1)//2]"
   ]
  },
  {
   "cell_type": "code",
   "execution_count": 151,
   "metadata": {},
   "outputs": [
    {
     "name": "stdout",
     "output_type": "stream",
     "text": [
      "The median daily trading volume in 2017: 76286.0\n"
     ]
    }
   ],
   "source": [
    "print(\"The median daily trading volume in 2017: \" + str(median(traded_volume)))"
   ]
  }
 ],
 "metadata": {
  "kernelspec": {
   "display_name": "Python 3",
   "language": "python",
   "name": "python3"
  },
  "language_info": {
   "codemirror_mode": {
    "name": "ipython",
    "version": 3
   },
   "file_extension": ".py",
   "mimetype": "text/x-python",
   "name": "python",
   "nbconvert_exporter": "python",
   "pygments_lexer": "ipython3",
   "version": "3.7.6"
  }
 },
 "nbformat": 4,
 "nbformat_minor": 4
}
