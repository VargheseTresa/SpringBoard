{
 "cells": [
  {
   "cell_type": "code",
   "execution_count": null,
   "metadata": {},
   "outputs": [],
   "source": [
    "sample"
   ]
  },
  {
   "cell_type": "code",
   "execution_count": 2,
   "metadata": {},
   "outputs": [],
   "source": [
    "import numpy as np"
   ]
  },
  {
   "cell_type": "code",
   "execution_count": 6,
   "metadata": {},
   "outputs": [
    {
     "name": "stdout",
     "output_type": "stream",
     "text": [
      "[80 89 95]\n",
      "[[80 89 95]\n",
      " [70 75 56]]\n"
     ]
    }
   ],
   "source": [
    "marks = [80, 89, 95]\n",
    "\n",
    "np_marks = np.array(marks)\n",
    "print(np_marks)\n",
    "\n",
    "marks1 = [70, 75, 56]\n",
    "np_marks2 = np.array([marks, marks1])\n",
    "print(np_marks2)\n"
   ]
  },
  {
   "cell_type": "code",
   "execution_count": 7,
   "metadata": {
    "scrolled": true
   },
   "outputs": [
    {
     "name": "stdout",
     "output_type": "stream",
     "text": [
      "1D array dimensions\n",
      "(3,)\n",
      "2D array dimensions\n",
      "(2, 3)\n"
     ]
    }
   ],
   "source": [
    "print(\"1D array dimensions\")\n",
    "print(np_marks.shape)\n",
    "print(\"2D array dimensions\")\n",
    "print(np_marks2.shape)"
   ]
  },
  {
   "cell_type": "code",
   "execution_count": 10,
   "metadata": {},
   "outputs": [
    {
     "name": "stdout",
     "output_type": "stream",
     "text": [
      "[1. 1. 1. 1. 1.]\n",
      "[[1. 1. 1.]\n",
      " [1. 1. 1.]\n",
      " [1. 1. 1.]\n",
      " [1. 1. 1.]\n",
      " [1. 1. 1.]]\n"
     ]
    }
   ],
   "source": [
    "np_ones = np.ones(5)\n",
    "print(np_ones)\n",
    "\n",
    "np_zones_2d = np.ones([5,3])\n",
    "print(np_zones_2d)"
   ]
  },
  {
   "cell_type": "code",
   "execution_count": 12,
   "metadata": {},
   "outputs": [
    {
     "name": "stdout",
     "output_type": "stream",
     "text": [
      "[1. 1. 1. 1. 1.]\n",
      "[[1. 1. 1.]\n",
      " [1. 1. 1.]\n",
      " [1. 1. 1.]\n",
      " [1. 1. 1.]\n",
      " [1. 1. 1.]]\n"
     ]
    }
   ],
   "source": [
    "np_empty = np.empty(5)\n",
    "print(np_empty)\n",
    "\n",
    "np_empty_2d = np.empty([5,3])\n",
    "print(np_empty_2d)"
   ]
  },
  {
   "cell_type": "code",
   "execution_count": 13,
   "metadata": {},
   "outputs": [
    {
     "name": "stdout",
     "output_type": "stream",
     "text": [
      "[[1. 0. 0.]\n",
      " [0. 1. 0.]\n",
      " [0. 0. 1.]]\n"
     ]
    }
   ],
   "source": [
    "identity_array = np.eye(3)\n",
    "print(identity_array)"
   ]
  },
  {
   "cell_type": "code",
   "execution_count": 14,
   "metadata": {
    "scrolled": true
   },
   "outputs": [
    {
     "name": "stdout",
     "output_type": "stream",
     "text": [
      "[ 0  2  4  6  8 10 12 14 16 18 20 22 24 26 28 30 32 34 36 38 40 42 44 46\n",
      " 48]\n"
     ]
    }
   ],
   "source": [
    "ap_array = np.arange(0, 50, 2)\n",
    "print(ap_array)"
   ]
  },
  {
   "cell_type": "code",
   "execution_count": 16,
   "metadata": {
    "scrolled": true
   },
   "outputs": [
    {
     "name": "stdout",
     "output_type": "stream",
     "text": [
      "[[1 2 3]\n",
      " [4 5 6]]\n",
      "[[ 1  4  9]\n",
      " [16 25 36]]\n"
     ]
    }
   ],
   "source": [
    "arr1 = np.array([[1, 2, 3], [4, 5, 6]])\n",
    "print(arr1)\n",
    "\n",
    "arr2 = arr1 * arr1\n",
    "print(arr2)"
   ]
  },
  {
   "cell_type": "code",
   "execution_count": 17,
   "metadata": {
    "scrolled": true
   },
   "outputs": [
    {
     "name": "stdout",
     "output_type": "stream",
     "text": [
      "[[  1   8  27]\n",
      " [ 64 125 216]]\n"
     ]
    }
   ],
   "source": [
    "arr3 = arr1 ** 3\n",
    "print(arr3)"
   ]
  },
  {
   "cell_type": "code",
   "execution_count": 18,
   "metadata": {
    "scrolled": true
   },
   "outputs": [
    {
     "name": "stdout",
     "output_type": "stream",
     "text": [
      "[[  0   6  24]\n",
      " [ 60 120 210]]\n"
     ]
    }
   ],
   "source": [
    "arr4 = arr3 - arr1\n",
    "print(arr4)"
   ]
  },
  {
   "cell_type": "code",
   "execution_count": 24,
   "metadata": {},
   "outputs": [
    {
     "name": "stdout",
     "output_type": "stream",
     "text": [
      "[100 102 104 106 108 110 112 114 116 118 120 122 124 126 128 130 132 134\n",
      " 136 138 140 142 144 146 148 150 152 154 156 158]\n",
      "arr[0]:  100\n",
      "arr[1]:  102\n",
      "arr[0:10:2]:  [100 104 108 112 116]\n"
     ]
    }
   ],
   "source": [
    "arr = np.arange(100, 160, 2)\n",
    "print(arr)\n",
    "print(\"arr[0]: \", arr[0])\n",
    "print(\"arr[1]: \", arr[1])\n",
    "print(\"arr[0:10:2]: \", arr[0:10:2])"
   ]
  },
  {
   "cell_type": "code",
   "execution_count": 25,
   "metadata": {},
   "outputs": [
    {
     "name": "stdout",
     "output_type": "stream",
     "text": [
      "[  0   0   0   0   0 110 112 114 116 118 120 122 124 126 128 130 132 134\n",
      " 136 138 140 142 144 146 148 150 152 154 156 158]\n"
     ]
    }
   ],
   "source": [
    "arr[0:5] = 0\n",
    "print(arr)"
   ]
  },
  {
   "cell_type": "code",
   "execution_count": 27,
   "metadata": {},
   "outputs": [
    {
     "name": "stdout",
     "output_type": "stream",
     "text": [
      "arr2:  [1 1 1 1 1]\n",
      "arr:  [  1   1   1   1   1 110 112 114 116 118 120 122 124 126 128 130 132 134\n",
      " 136 138 140 142 144 146 148 150 152 154 156 158]\n"
     ]
    }
   ],
   "source": [
    "arr2 = arr[0:5]\n",
    "arr2[:] = 1\n",
    "\n",
    "print(\"arr2: \", arr2)\n",
    "print(\"arr: \", arr)"
   ]
  },
  {
   "cell_type": "code",
   "execution_count": 32,
   "metadata": {},
   "outputs": [
    {
     "name": "stdout",
     "output_type": "stream",
     "text": [
      "[4 5 6]\n",
      "4\n",
      "[[2 3]\n",
      " [5 6]]\n"
     ]
    }
   ],
   "source": [
    "arr_2d = np.array([[1, 2, 3], [4, 5, 6], [7, 8, 9]])\n",
    "\n",
    "# accessing rows\n",
    "print(arr_2d[1])\n",
    "\n",
    "# accessing elements\n",
    "print(arr_2d[1][0])\n",
    "\n",
    "# slicing\n",
    "print(arr_2d[0:2, 1:])"
   ]
  },
  {
   "cell_type": "code",
   "execution_count": 33,
   "metadata": {},
   "outputs": [
    {
     "name": "stdout",
     "output_type": "stream",
     "text": [
      "[[7 8 9]\n",
      " [1 2 3]]\n"
     ]
    }
   ],
   "source": [
    "print(arr_2d[[2,0]])"
   ]
  },
  {
   "cell_type": "code",
   "execution_count": 37,
   "metadata": {},
   "outputs": [
    {
     "name": "stdout",
     "output_type": "stream",
     "text": [
      "[10 15 20 25 30 35 40 45 50 55 60 65 70 75 80 85 90 95]\n",
      "[3.16227766 3.87298335 4.47213595 5.         5.47722558 5.91607978\n",
      " 6.32455532 6.70820393 7.07106781 7.41619849 7.74596669 8.06225775\n",
      " 8.36660027 8.66025404 8.94427191 9.21954446 9.48683298 9.74679434]\n",
      "[2.20264658e+04 3.26901737e+06 4.85165195e+08 7.20048993e+10\n",
      " 1.06864746e+13 1.58601345e+15 2.35385267e+17 3.49342711e+19\n",
      " 5.18470553e+21 7.69478527e+23 1.14200739e+26 1.69488924e+28\n",
      " 2.51543867e+30 3.73324200e+32 5.54062238e+34 8.22301271e+36\n",
      " 1.22040329e+39 1.81123908e+41]\n"
     ]
    }
   ],
   "source": [
    "A = np.arange(10, 100, 5)\n",
    "print(A)\n",
    "\n",
    "# Square root\n",
    "print(np.sqrt(A))\n",
    "\n",
    "# Exponentiation\n",
    "print(np.exp(A))"
   ]
  },
  {
   "cell_type": "code",
   "execution_count": 42,
   "metadata": {},
   "outputs": [
    {
     "name": "stdout",
     "output_type": "stream",
     "text": [
      "[ 0.90701888 -0.38959279  1.22855852 -0.21305726 -2.32749553]\n",
      "[[ 1.02576279 -0.15444732 -0.39878853]\n",
      " [ 1.2030908  -1.297839   -1.14248544]\n",
      " [-0.77033959  1.30941018  1.26569284]\n",
      " [-0.72117888 -0.65984841  1.35108752]\n",
      " [-1.05092618 -1.99645929  0.553449  ]]\n"
     ]
    }
   ],
   "source": [
    "r = np.random.randn(5)\n",
    "print(r)\n",
    "\n",
    "r = np.random.randn(5, 3)\n",
    "print(r)"
   ]
  },
  {
   "cell_type": "code",
   "execution_count": 43,
   "metadata": {},
   "outputs": [
    {
     "name": "stdout",
     "output_type": "stream",
     "text": [
      "[ 1  6  8 10]\n"
     ]
    }
   ],
   "source": [
    "a = np.array([1, 5, 7, 10])\n",
    "b = np.array([0, 6, 8, 9])\n",
    "\n",
    "print(np.maximum(a,b))"
   ]
  },
  {
   "cell_type": "code",
   "execution_count": 6,
   "metadata": {},
   "outputs": [
    {
     "name": "stdout",
     "output_type": "stream",
     "text": [
      "[0 1 2 3 4 5 6 7 8 9]\n",
      "[ 5  8 11 14 17 20 23]\n"
     ]
    }
   ],
   "source": [
    "arr1 = np.arange(10)\n",
    "arr2 = np.arange(5, 25, 3)\n",
    "\n",
    "# save single array\n",
    "np.save(\"saved_arr\", arr1)\n",
    "\n",
    "# save multiple arrays\n",
    "np.savez(\"saved_arr2\", x=arr1, y=arr2)\n",
    "\n",
    "load1 = np.load(\"saved_arr.npy\")\n",
    "print(load1)\n",
    "\n",
    "load2 = np.load(\"saved_arr2.npz\")\n",
    "print(load2['y'])"
   ]
  },
  {
   "cell_type": "code",
   "execution_count": 9,
   "metadata": {},
   "outputs": [
    {
     "name": "stdout",
     "output_type": "stream",
     "text": [
      "[0. 1. 2. 3. 4. 5. 6. 7. 8. 9.]\n"
     ]
    }
   ],
   "source": [
    "np.savetxt('myarray.txt', arr1, delimiter=',')\n",
    "load_txt = np.loadtxt('myarray.txt', delimiter=',')\n",
    "print(load_txt)"
   ]
  },
  {
   "cell_type": "code",
   "execution_count": 15,
   "metadata": {
    "scrolled": true
   },
   "outputs": [
    {
     "name": "stdout",
     "output_type": "stream",
     "text": [
      "[0 1 2] [4 5 6 7]\n",
      "x2\n",
      "[[0 1 2]\n",
      " [0 1 2]\n",
      " [0 1 2]\n",
      " [0 1 2]]\n",
      "y2\n",
      "[[4 4 4]\n",
      " [5 5 5]\n",
      " [6 6 6]\n",
      " [7 7 7]]\n",
      "z\n",
      "[[12 14 16]\n",
      " [15 17 19]\n",
      " [18 20 22]\n",
      " [21 23 25]]\n"
     ]
    }
   ],
   "source": [
    "import matplotlib.pyplot as plt\n",
    "\n",
    "x = np.arange(3)\n",
    "y = np.arange(4,8)\n",
    "\n",
    "print(x, y)\n",
    "\n",
    "x2, y2 = np.meshgrid(x, y)\n",
    "print(\"x2\")\n",
    "print(x2)\n",
    "print(\"y2\")\n",
    "print(y2)\n",
    "\n",
    "z = 2*x2 + 3*y2\n",
    "print(\"z\")\n",
    "print(z)"
   ]
  },
  {
   "cell_type": "code",
   "execution_count": 18,
   "metadata": {},
   "outputs": [
    {
     "data": {
      "image/png": "[encoded data removed]",
      "text/plain": [
       "<Figure size 640x480 with 2 Axes>"
      ]
     },
     "metadata": {},
     "output_type": "display_data"
    }
   ],
   "source": [
    "plt.imshow(z)\n",
    "plt.title(\"plot of 2x + 3y\")\n",
    "plt.colorbar()\n",
    "plt.show()"
   ]
  },
  {
   "cell_type": "code",
   "execution_count": null,
   "metadata": {},
   "outputs": [],
   "source": [
    "len([[1116], [191], [497], [268], [926], [945], [946], [1126], [265], [112], [615], [994], [439], [56], [154], [1109], [1132], [106], [331], [1011], [170], [99], [414], [812], [93], [659], [1072], [1150], [977], [968], [504], [477], [167], [962], [600], [81], [953], [222], [1190], [386], [168], [334], [473], [542], [696], [1027], [707], [215], [952], [67], [695], [942], [947], [471], [204], [642], [736], [1042], [347], [1131], [104], [708], [438], [929], [543], [231], [976], [206], [117], [1001], [387], [753], [499], [1000], [229], [1083], [138], [1036], [898], [927], [162], [165], [433], [749], [901], [135], [368], [842], [859], [124], [577], [87], [1125], [19], [648], [403], [340], [426], [803], [228], [37], [297], [928], [879], [1091], [1017], [1195], [569], [254], [519], [13], [558], [555], [575], [127], [466], [531], [394], [1182], [734], [1165], [116], [911], [434], [239], [1153], [481], [1035], [900], [1099], [819], [692], [1135], [668], [273], [410]]"
   ]
  }
 ],
 "metadata": {
  "kernelspec": {
   "display_name": "Python 3",
   "language": "python",
   "name": "python3"
  },
  "language_info": {
   "codemirror_mode": {
    "name": "ipython",
    "version": 3
   },
   "file_extension": ".py",
   "mimetype": "text/x-python",
   "name": "python",
   "nbconvert_exporter": "python",
   "pygments_lexer": "ipython3",
   "version": "3.7.6"
  }
 },
 "nbformat": 4,
 "nbformat_minor": 4
}
